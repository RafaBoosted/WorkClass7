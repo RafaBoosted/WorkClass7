{
 "cells": [
  {
   "cell_type": "code",
   "execution_count": 46,
   "metadata": {},
   "outputs": [
    {
     "name": "stdout",
     "output_type": "stream",
     "text": [
      "5 patinhos foram passear...Além das montanhas para brincar...A mamãe gritou: qua qua qua qua\n",
      "Mas só  4 Voltaram de lá\n",
      "4 patinhos foram passear...Além das montanhas para brincar...A mamãe gritou: qua qua qua qua\n",
      "Mas só  3 Voltaram de lá\n",
      "3 patinhos foram passear...Além das montanhas para brincar...A mamãe gritou: qua qua qua qua\n",
      "Mas só  2 Voltaram de lá\n",
      "2 patinhos foram passear...Além das montanhas para brincar...A mamãe gritou: qua qua qua qua\n",
      "Mas só  1 Voltaram de lá\n",
      "1 patinhos foram passear...Além das montanhas para brincar...A mamãe gritou: qua qua qua qua\n",
      "Mas só  0 Voltaram de lá\n",
      "1 elefantes incomodam muita gente\n",
      "2 elefantes incomodam incomodam muito mais\n",
      "3 elefantes incomodam muita gente\n",
      "4 elefantes incomodam incomodam incomodam incomodam muito mais\n",
      "5 elefantes incomodam muita gente\n",
      "6 elefantes incomodam incomodam incomodam incomodam incomodam incomodam muito mais\n",
      "7 elefantes incomodam muita gente\n",
      "8 elefantes incomodam incomodam incomodam incomodam incomodam incomodam incomodam incomodam muito mais\n",
      "9 elefantes incomodam muita gente\n",
      "10 elefantes incomodam incomodam incomodam incomodam incomodam incomodam incomodam incomodam incomodam incomodam muito mais\n"
     ]
    }
   ],
   "source": [
    "#cinco patinhos\n",
    "\n",
    "for patinho in [5,4,3,2,1]:\n",
    "    print(patinho, \"patinhos foram passear...Além das montanhas para brincar...A mamãe gritou: qua qua qua qua\")\n",
    "    print(\"Mas só \", patinho -1, \"Voltaram de lá\")\n",
    "\n",
    "\n",
    "# Mariana conta\n",
    "\n",
    "#conta = [1, 2, 3, 4, 5, 6, 7, 8, 9, 10]\n",
    "#acumulados_str = ''\n",
    "\n",
    "#for i in range(len(conta)):\n",
    " #   num = conta[i]\n",
    "  #  if i == 0:\n",
    "   #     acumulados_str = 'é ' + str(num)\n",
    "    #else:\n",
    "     #   acumulados_str += ', é ' + str(num)\n",
    "    #print(f'Mariana conta {num} Mariana conta {num} {acumulados_str}')\n",
    "\n",
    "\n",
    "#Um elefante incomoda muita gente dois elefantes incomodam*2 muito mais...\n",
    "\n",
    "\n",
    "n = [1, 2, 3, 4, 5, 6, 7, 8, 9, 10]\n",
    "\n",
    "for elefantes in n:\n",
    "    if elefantes % 2 != 0:\n",
    "        print(elefantes, 'elefantes incomodam muita gente')\n",
    "    else:\n",
    "        print(elefantes, 'elefantes', 'incomodam ' * elefantes + 'muito mais')"
   ]
  }
 ],
 "metadata": {
  "kernelspec": {
   "display_name": "Python 3",
   "language": "python",
   "name": "python3"
  },
  "language_info": {
   "codemirror_mode": {
    "name": "ipython",
    "version": 3
   },
   "file_extension": ".py",
   "mimetype": "text/x-python",
   "name": "python",
   "nbconvert_exporter": "python",
   "pygments_lexer": "ipython3",
   "version": "3.11.9"
  }
 },
 "nbformat": 4,
 "nbformat_minor": 2
}
